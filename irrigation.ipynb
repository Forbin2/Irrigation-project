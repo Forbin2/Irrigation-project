{
 "cells": [
  {
   "cell_type": "code",
   "execution_count": 40,
   "id": "94d3ba55-60e5-4e86-9527-9baa0c430763",
   "metadata": {},
   "outputs": [],
   "source": [
    "import numpy as np\n",
    "import pandas as pd\n",
    "import matplotlib.pyplot as plt\n",
    "import seaborn as sns\n",
    "from sklearn.model_selection import train_test_split\n",
    "from sklearn.pipeline import Pipeline\n",
    "from sklearn.linear_model import LogisticRegression\n",
    "from sklearn.preprocessing import StandardScaler,OneHotEncoder\n",
    "from sklearn.compose import ColumnTransformer\n",
    "from sklearn import metrics\n",
    "import joblib"
   ]
  },
  {
   "cell_type": "code",
   "execution_count": 4,
   "id": "4e55ba34-47bd-43cc-bd0b-714687ce86dc",
   "metadata": {
    "panel-layout": {
     "height": 112.361,
     "visible": true,
     "width": 100
    }
   },
   "outputs": [
    {
     "data": {
      "text/html": [
       "<div>\n",
       "<style scoped>\n",
       "    .dataframe tbody tr th:only-of-type {\n",
       "        vertical-align: middle;\n",
       "    }\n",
       "\n",
       "    .dataframe tbody tr th {\n",
       "        vertical-align: top;\n",
       "    }\n",
       "\n",
       "    .dataframe thead th {\n",
       "        text-align: right;\n",
       "    }\n",
       "</style>\n",
       "<table border=\"1\" class=\"dataframe\">\n",
       "  <thead>\n",
       "    <tr style=\"text-align: right;\">\n",
       "      <th></th>\n",
       "      <th>crop ID</th>\n",
       "      <th>soil_type</th>\n",
       "      <th>Seedling Stage</th>\n",
       "      <th>MOI</th>\n",
       "      <th>temp</th>\n",
       "      <th>humidity</th>\n",
       "      <th>result</th>\n",
       "    </tr>\n",
       "  </thead>\n",
       "  <tbody>\n",
       "    <tr>\n",
       "      <th>0</th>\n",
       "      <td>Wheat</td>\n",
       "      <td>Black Soil</td>\n",
       "      <td>Germination</td>\n",
       "      <td>1</td>\n",
       "      <td>25</td>\n",
       "      <td>80.0</td>\n",
       "      <td>1</td>\n",
       "    </tr>\n",
       "    <tr>\n",
       "      <th>1</th>\n",
       "      <td>Wheat</td>\n",
       "      <td>Black Soil</td>\n",
       "      <td>Germination</td>\n",
       "      <td>2</td>\n",
       "      <td>26</td>\n",
       "      <td>77.0</td>\n",
       "      <td>1</td>\n",
       "    </tr>\n",
       "    <tr>\n",
       "      <th>2</th>\n",
       "      <td>Wheat</td>\n",
       "      <td>Black Soil</td>\n",
       "      <td>Germination</td>\n",
       "      <td>3</td>\n",
       "      <td>27</td>\n",
       "      <td>74.0</td>\n",
       "      <td>1</td>\n",
       "    </tr>\n",
       "  </tbody>\n",
       "</table>\n",
       "</div>"
      ],
      "text/plain": [
       "  crop ID   soil_type Seedling Stage  MOI  temp  humidity  result\n",
       "0   Wheat  Black Soil    Germination    1    25      80.0       1\n",
       "1   Wheat  Black Soil    Germination    2    26      77.0       1\n",
       "2   Wheat  Black Soil    Germination    3    27      74.0       1"
      ]
     },
     "execution_count": 4,
     "metadata": {},
     "output_type": "execute_result"
    }
   ],
   "source": [
    "data= pd.read_csv('cropdata_updated.csv') # loading the data\n",
    "data.head(3) # displaying the first 3 lines of the data set"
   ]
  },
  {
   "cell_type": "markdown",
   "id": "eaf6b8dd-07bb-4ca8-a3d8-538b4adcd10b",
   "metadata": {
    "panel-layout": {
     "height": 44.0799,
     "visible": true,
     "width": 100
    }
   },
   "source": [
    "### data exprolation and cleaninng"
   ]
  },
  {
   "cell_type": "code",
   "execution_count": 5,
   "id": "697ed9b0-0975-4a13-8531-609eff381212",
   "metadata": {
    "panel-layout": {
     "height": 0,
     "visible": true,
     "width": 100
    }
   },
   "outputs": [
    {
     "name": "stdout",
     "output_type": "stream",
     "text": [
      "<class 'pandas.core.frame.DataFrame'>\n",
      "RangeIndex: 16411 entries, 0 to 16410\n",
      "Data columns (total 7 columns):\n",
      " #   Column          Non-Null Count  Dtype  \n",
      "---  ------          --------------  -----  \n",
      " 0   crop ID         16411 non-null  object \n",
      " 1   soil_type       16411 non-null  object \n",
      " 2   Seedling Stage  16411 non-null  object \n",
      " 3   MOI             16411 non-null  int64  \n",
      " 4   temp            16411 non-null  int64  \n",
      " 5   humidity        16411 non-null  float64\n",
      " 6   result          16411 non-null  int64  \n",
      "dtypes: float64(1), int64(3), object(3)\n",
      "memory usage: 897.6+ KB\n"
     ]
    }
   ],
   "source": [
    "data.info() # understanding the data type we are working with"
   ]
  },
  {
   "cell_type": "code",
   "execution_count": 6,
   "id": "3756708b-5d55-4bea-9284-95c48d5d05eb",
   "metadata": {
    "panel-layout": {
     "height": 27.1354,
     "visible": true,
     "width": 100
    }
   },
   "outputs": [
    {
     "data": {
      "text/plain": [
       "(16411, 7)"
      ]
     },
     "execution_count": 6,
     "metadata": {},
     "output_type": "execute_result"
    }
   ],
   "source": [
    "data.shape"
   ]
  },
  {
   "cell_type": "code",
   "execution_count": 7,
   "id": "50717844-de48-40d3-9ade-48ceb3be9181",
   "metadata": {
    "panel-layout": {
     "height": 213.611,
     "visible": true,
     "width": 100
    }
   },
   "outputs": [
    {
     "data": {
      "text/plain": [
       "crop ID           0\n",
       "soil_type         0\n",
       "Seedling Stage    0\n",
       "MOI               0\n",
       "temp              0\n",
       "humidity          0\n",
       "result            0\n",
       "dtype: int64"
      ]
     },
     "execution_count": 7,
     "metadata": {},
     "output_type": "execute_result"
    }
   ],
   "source": [
    "data.isnull().sum() # checking if there is any missing values"
   ]
  },
  {
   "cell_type": "code",
   "execution_count": 8,
   "id": "7763acce-0d6a-43f1-808e-ce099ad0fabd",
   "metadata": {
    "panel-layout": {
     "height": 213.611,
     "visible": true,
     "width": 100
    }
   },
   "outputs": [
    {
     "data": {
      "text/plain": [
       "crop ID           1122\n",
       "soil_type         1122\n",
       "Seedling Stage    1122\n",
       "MOI               1122\n",
       "temp              1122\n",
       "humidity          1122\n",
       "result            1122\n",
       "dtype: int64"
      ]
     },
     "execution_count": 8,
     "metadata": {},
     "output_type": "execute_result"
    }
   ],
   "source": [
    "data.loc[data['result']==2].count(axis=0)"
   ]
  },
  {
   "cell_type": "code",
   "execution_count": 9,
   "id": "427e1461-81e0-4742-aaa3-a0f76d466e7d",
   "metadata": {
    "panel-layout": {
     "height": 87.0486,
     "visible": true,
     "width": 100
    }
   },
   "outputs": [
    {
     "data": {
      "text/plain": [
       "False    16283\n",
       "True       128\n",
       "Name: count, dtype: int64"
      ]
     },
     "execution_count": 9,
     "metadata": {},
     "output_type": "execute_result"
    }
   ],
   "source": [
    "data.duplicated().value_counts()"
   ]
  },
  {
   "cell_type": "code",
   "execution_count": 10,
   "id": "a4834ae3-5100-480c-b5c3-34e784e47cfc",
   "metadata": {},
   "outputs": [],
   "source": [
    "cleaned_data=data[data['result']!=2 ] # cleaning data by removing all records that has the value of 2 while we expected to have 1 or 0"
   ]
  },
  {
   "cell_type": "code",
   "execution_count": 11,
   "id": "5c2a76cf-c1d6-4132-a48d-5cde28b196f5",
   "metadata": {
    "panel-layout": {
     "height": 0,
     "visible": true,
     "width": 100
    }
   },
   "outputs": [
    {
     "name": "stderr",
     "output_type": "stream",
     "text": [
      "C:\\Users\\COMPUTER\\AppData\\Local\\Temp\\ipykernel_6340\\4048420454.py:1: SettingWithCopyWarning: \n",
      "A value is trying to be set on a copy of a slice from a DataFrame\n",
      "\n",
      "See the caveats in the documentation: https://pandas.pydata.org/pandas-docs/stable/user_guide/indexing.html#returning-a-view-versus-a-copy\n",
      "  cleaned_data.drop_duplicates(inplace=True) # removing duplicated records\n"
     ]
    }
   ],
   "source": [
    "cleaned_data.drop_duplicates(inplace=True) # removing duplicated records"
   ]
  },
  {
   "cell_type": "code",
   "execution_count": 12,
   "id": "da0267e3-9def-4f38-ae49-0a7a3c52337c",
   "metadata": {
    "panel-layout": {
     "height": 27.1354,
     "visible": true,
     "width": 100
    }
   },
   "outputs": [
    {
     "data": {
      "text/plain": [
       "(15161, 7)"
      ]
     },
     "execution_count": 12,
     "metadata": {},
     "output_type": "execute_result"
    }
   ],
   "source": [
    "cleaned_data.shape"
   ]
  },
  {
   "cell_type": "code",
   "execution_count": 13,
   "id": "b1100e0d-6ad0-47ba-a63c-eebe917ed597",
   "metadata": {
    "panel-layout": {
     "height": 112.361,
     "visible": true,
     "width": 100
    }
   },
   "outputs": [
    {
     "data": {
      "text/plain": [
       "result\n",
       "0    8934\n",
       "1    6227\n",
       "Name: count, dtype: int64"
      ]
     },
     "execution_count": 13,
     "metadata": {},
     "output_type": "execute_result"
    }
   ],
   "source": [
    "cleaned_data.result.value_counts() "
   ]
  },
  {
   "cell_type": "code",
   "execution_count": 14,
   "id": "b235a131-a10c-48b3-88fe-28436ed4833f",
   "metadata": {
    "panel-layout": {
     "height": 137.674,
     "visible": true,
     "width": 100
    }
   },
   "outputs": [
    {
     "data": {
      "text/html": [
       "<div>\n",
       "<style scoped>\n",
       "    .dataframe tbody tr th:only-of-type {\n",
       "        vertical-align: middle;\n",
       "    }\n",
       "\n",
       "    .dataframe tbody tr th {\n",
       "        vertical-align: top;\n",
       "    }\n",
       "\n",
       "    .dataframe thead th {\n",
       "        text-align: right;\n",
       "    }\n",
       "</style>\n",
       "<table border=\"1\" class=\"dataframe\">\n",
       "  <thead>\n",
       "    <tr style=\"text-align: right;\">\n",
       "      <th></th>\n",
       "      <th>crop ID</th>\n",
       "      <th>soil_type</th>\n",
       "      <th>Seedling Stage</th>\n",
       "    </tr>\n",
       "  </thead>\n",
       "  <tbody>\n",
       "    <tr>\n",
       "      <th>count</th>\n",
       "      <td>15161</td>\n",
       "      <td>15161</td>\n",
       "      <td>15161</td>\n",
       "    </tr>\n",
       "    <tr>\n",
       "      <th>unique</th>\n",
       "      <td>5</td>\n",
       "      <td>7</td>\n",
       "      <td>8</td>\n",
       "    </tr>\n",
       "    <tr>\n",
       "      <th>top</th>\n",
       "      <td>Wheat</td>\n",
       "      <td>Clay Soil</td>\n",
       "      <td>Flowering</td>\n",
       "    </tr>\n",
       "    <tr>\n",
       "      <th>freq</th>\n",
       "      <td>5776</td>\n",
       "      <td>3403</td>\n",
       "      <td>2738</td>\n",
       "    </tr>\n",
       "  </tbody>\n",
       "</table>\n",
       "</div>"
      ],
      "text/plain": [
       "       crop ID  soil_type Seedling Stage\n",
       "count    15161      15161          15161\n",
       "unique       5          7              8\n",
       "top      Wheat  Clay Soil      Flowering\n",
       "freq      5776       3403           2738"
      ]
     },
     "execution_count": 14,
     "metadata": {},
     "output_type": "execute_result"
    }
   ],
   "source": [
    "cleaned_data.describe(include='O') # data summary on categorical data"
   ]
  },
  {
   "cell_type": "code",
   "execution_count": 15,
   "id": "b0623661-0303-4449-b1c0-481f9f26ba1b",
   "metadata": {
    "panel-layout": {
     "height": 238.924,
     "visible": true,
     "width": 100
    }
   },
   "outputs": [
    {
     "data": {
      "text/html": [
       "<div>\n",
       "<style scoped>\n",
       "    .dataframe tbody tr th:only-of-type {\n",
       "        vertical-align: middle;\n",
       "    }\n",
       "\n",
       "    .dataframe tbody tr th {\n",
       "        vertical-align: top;\n",
       "    }\n",
       "\n",
       "    .dataframe thead th {\n",
       "        text-align: right;\n",
       "    }\n",
       "</style>\n",
       "<table border=\"1\" class=\"dataframe\">\n",
       "  <thead>\n",
       "    <tr style=\"text-align: right;\">\n",
       "      <th></th>\n",
       "      <th>MOI</th>\n",
       "      <th>temp</th>\n",
       "      <th>humidity</th>\n",
       "      <th>result</th>\n",
       "    </tr>\n",
       "  </thead>\n",
       "  <tbody>\n",
       "    <tr>\n",
       "      <th>count</th>\n",
       "      <td>15161.000000</td>\n",
       "      <td>15161.000000</td>\n",
       "      <td>15161.000000</td>\n",
       "      <td>15161.000000</td>\n",
       "    </tr>\n",
       "    <tr>\n",
       "      <th>mean</th>\n",
       "      <td>42.016688</td>\n",
       "      <td>28.431898</td>\n",
       "      <td>64.348354</td>\n",
       "      <td>0.410725</td>\n",
       "    </tr>\n",
       "    <tr>\n",
       "      <th>std</th>\n",
       "      <td>27.134370</td>\n",
       "      <td>9.729298</td>\n",
       "      <td>22.581638</td>\n",
       "      <td>0.491982</td>\n",
       "    </tr>\n",
       "    <tr>\n",
       "      <th>min</th>\n",
       "      <td>1.000000</td>\n",
       "      <td>13.000000</td>\n",
       "      <td>15.000000</td>\n",
       "      <td>0.000000</td>\n",
       "    </tr>\n",
       "    <tr>\n",
       "      <th>25%</th>\n",
       "      <td>19.000000</td>\n",
       "      <td>20.000000</td>\n",
       "      <td>45.000000</td>\n",
       "      <td>0.000000</td>\n",
       "    </tr>\n",
       "    <tr>\n",
       "      <th>50%</th>\n",
       "      <td>39.000000</td>\n",
       "      <td>28.000000</td>\n",
       "      <td>71.000000</td>\n",
       "      <td>0.000000</td>\n",
       "    </tr>\n",
       "    <tr>\n",
       "      <th>75%</th>\n",
       "      <td>61.000000</td>\n",
       "      <td>37.000000</td>\n",
       "      <td>84.000000</td>\n",
       "      <td>1.000000</td>\n",
       "    </tr>\n",
       "    <tr>\n",
       "      <th>max</th>\n",
       "      <td>100.000000</td>\n",
       "      <td>46.000000</td>\n",
       "      <td>91.000000</td>\n",
       "      <td>1.000000</td>\n",
       "    </tr>\n",
       "  </tbody>\n",
       "</table>\n",
       "</div>"
      ],
      "text/plain": [
       "                MOI          temp      humidity        result\n",
       "count  15161.000000  15161.000000  15161.000000  15161.000000\n",
       "mean      42.016688     28.431898     64.348354      0.410725\n",
       "std       27.134370      9.729298     22.581638      0.491982\n",
       "min        1.000000     13.000000     15.000000      0.000000\n",
       "25%       19.000000     20.000000     45.000000      0.000000\n",
       "50%       39.000000     28.000000     71.000000      0.000000\n",
       "75%       61.000000     37.000000     84.000000      1.000000\n",
       "max      100.000000     46.000000     91.000000      1.000000"
      ]
     },
     "execution_count": 15,
     "metadata": {},
     "output_type": "execute_result"
    }
   ],
   "source": [
    "cleaned_data.describe() # statistical summary on numeric data type"
   ]
  },
  {
   "cell_type": "code",
   "execution_count": 16,
   "id": "711b544c-3f69-44d8-bce8-71669ed5b0d3",
   "metadata": {
    "panel-layout": {
     "height": 441.997,
     "visible": true,
     "width": 100
    }
   },
   "outputs": [
    {
     "data": {
      "image/png": "[encoded data removed]",
      "text/plain": [
       "<Figure size 400x300 with 1 Axes>"
      ]
     },
     "metadata": {},
     "output_type": "display_data"
    }
   ],
   "source": [
    "plt.figure(figsize=(4,3))\n",
    "cleaned_data['crop ID'].value_counts().plot(kind='pie',fontsize=8,wedgeprops= dict(width=0.3), autopct= '%3.1f%%')\n",
    "plt.title('proportion of each crop')\n",
    "plt.tight_layout()\n",
    "plt.show()"
   ]
  },
  {
   "cell_type": "code",
   "execution_count": 17,
   "id": "b1230225-a93f-44b4-be62-478d71c83b83",
   "metadata": {
    "panel-layout": {
     "height": 585.99,
     "visible": true,
     "width": 100
    }
   },
   "outputs": [
    {
     "data": {
      "image/png": "[encoded data removed]",
      "text/plain": [
       "<Figure size 1000x400 with 2 Axes>"
      ]
     },
     "metadata": {},
     "output_type": "display_data"
    }
   ],
   "source": [
    "plt.figure(figsize=(10,4))\n",
    "\n",
    "plt.subplot(1,2,1)\n",
    "sns.barplot(cleaned_data.soil_type.value_counts(),orient='h')\n",
    "plt.title('data distribution based on soil type')\n",
    "\n",
    "plt.subplot(1,2,2)\n",
    "sns.barplot(cleaned_data['Seedling Stage'].value_counts(),orient='h')\n",
    "plt.title('data distribution based on germination stage')\n",
    "\n",
    "plt.tight_layout()\n",
    "plt.show()"
   ]
  },
  {
   "cell_type": "code",
   "execution_count": 18,
   "id": "abc64f7c-1eb2-409e-ba5c-e7a2c5df48c1",
   "metadata": {
    "panel-layout": {
     "height": 867.674,
     "visible": true,
     "width": 100
    }
   },
   "outputs": [
    {
     "data": {
      "text/html": [
       "<div>\n",
       "<style scoped>\n",
       "    .dataframe tbody tr th:only-of-type {\n",
       "        vertical-align: middle;\n",
       "    }\n",
       "\n",
       "    .dataframe tbody tr th {\n",
       "        vertical-align: top;\n",
       "    }\n",
       "\n",
       "    .dataframe thead th {\n",
       "        text-align: right;\n",
       "    }\n",
       "</style>\n",
       "<table border=\"1\" class=\"dataframe\">\n",
       "  <thead>\n",
       "    <tr style=\"text-align: right;\">\n",
       "      <th></th>\n",
       "      <th>MOI</th>\n",
       "      <th>temp</th>\n",
       "      <th>humidity</th>\n",
       "      <th>result</th>\n",
       "    </tr>\n",
       "  </thead>\n",
       "  <tbody>\n",
       "    <tr>\n",
       "      <th>MOI</th>\n",
       "      <td>1.000000</td>\n",
       "      <td>0.251069</td>\n",
       "      <td>-0.234508</td>\n",
       "      <td>-0.286134</td>\n",
       "    </tr>\n",
       "    <tr>\n",
       "      <th>temp</th>\n",
       "      <td>0.251069</td>\n",
       "      <td>1.000000</td>\n",
       "      <td>-0.976202</td>\n",
       "      <td>0.570059</td>\n",
       "    </tr>\n",
       "    <tr>\n",
       "      <th>humidity</th>\n",
       "      <td>-0.234508</td>\n",
       "      <td>-0.976202</td>\n",
       "      <td>1.000000</td>\n",
       "      <td>-0.527757</td>\n",
       "    </tr>\n",
       "    <tr>\n",
       "      <th>result</th>\n",
       "      <td>-0.286134</td>\n",
       "      <td>0.570059</td>\n",
       "      <td>-0.527757</td>\n",
       "      <td>1.000000</td>\n",
       "    </tr>\n",
       "  </tbody>\n",
       "</table>\n",
       "</div>"
      ],
      "text/plain": [
       "               MOI      temp  humidity    result\n",
       "MOI       1.000000  0.251069 -0.234508 -0.286134\n",
       "temp      0.251069  1.000000 -0.976202  0.570059\n",
       "humidity -0.234508 -0.976202  1.000000 -0.527757\n",
       "result   -0.286134  0.570059 -0.527757  1.000000"
      ]
     },
     "execution_count": 18,
     "metadata": {},
     "output_type": "execute_result"
    }
   ],
   "source": [
    "cleaned_data.corr(numeric_only=True) # checking the influence of independent variables on target variable (result)"
   ]
  },
  {
   "cell_type": "markdown",
   "id": "0e1f62e2-27ae-4797-9a9b-45da04dc5a29",
   "metadata": {
    "panel-layout": {
     "height": 44.0799,
     "visible": true,
     "width": 100
    }
   },
   "source": [
    "### building a machine learning model"
   ]
  },
  {
   "cell_type": "code",
   "execution_count": 19,
   "id": "dc8b7c7e-bb09-44e4-ab61-bc15a3971d69",
   "metadata": {},
   "outputs": [],
   "source": [
    "x=cleaned_data.drop('result',axis=1)\n",
    "y= cleaned_data['result']"
   ]
  },
  {
   "cell_type": "code",
   "execution_count": 20,
   "id": "8d1dd9bf-862b-443f-b951-09edc68b609c",
   "metadata": {},
   "outputs": [],
   "source": [
    "# splitting data into training and testing set\n",
    "x_train,x_test,y_train,y_test= train_test_split(x,y,test_size=0.3,random_state=42,stratify=y)"
   ]
  },
  {
   "cell_type": "code",
   "execution_count": 21,
   "id": "1d79b0e4-cbd7-45ee-a680-e37147bc96ec",
   "metadata": {
    "panel-layout": {
     "height": 757.135,
     "visible": true,
     "width": 100
    }
   },
   "outputs": [
    {
     "data": {
      "text/plain": [
       "Index(['crop ID', 'soil_type', 'Seedling Stage', 'MOI', 'temp', 'humidity'], dtype='object')"
      ]
     },
     "execution_count": 21,
     "metadata": {},
     "output_type": "execute_result"
    }
   ],
   "source": [
    "x_train.columns # displaying the column names"
   ]
  },
  {
   "cell_type": "code",
   "execution_count": 22,
   "id": "6937ee8b-e65c-47ff-98dc-2a7869ff64fa",
   "metadata": {},
   "outputs": [],
   "source": [
    "categorical_cols= ['crop ID','soil_type','Seedling Stage']\n",
    "numerical_cols= ['MOI','temp','humidity']"
   ]
  },
  {
   "cell_type": "code",
   "execution_count": 23,
   "id": "67e6461c-b11c-43bf-a0ee-3cbfb8e4885f",
   "metadata": {},
   "outputs": [],
   "source": [
    "# Data preprocessing\n",
    "preprocess= ColumnTransformer([('categorical',OneHotEncoder(drop='first'),categorical_cols),\n",
    "                              ('numerical',StandardScaler(),numerical_cols)])"
   ]
  },
  {
   "cell_type": "code",
   "execution_count": 24,
   "id": "844f8e4f-67e7-43bc-a7f7-af6e587edbaa",
   "metadata": {},
   "outputs": [],
   "source": [
    "pipe=Pipeline([('preproces',preprocess),\n",
    "              ('classifier',LogisticRegression(random_state=42))])"
   ]
  },
  {
   "cell_type": "code",
   "execution_count": 25,
   "id": "e8ede3ab-db14-4253-b9a0-6fa71fe7f69f",
   "metadata": {},
   "outputs": [],
   "source": [
    "fitted_model=pipe.fit(x_train,y_train) # fitting the model"
   ]
  },
  {
   "cell_type": "code",
   "execution_count": 26,
   "id": "03b3bd71-3974-4f8d-bd1c-1e3f1e1d55d9",
   "metadata": {},
   "outputs": [
    {
     "data": {
      "text/plain": [
       "array([0, 0, 0, ..., 0, 1, 0], dtype=int64)"
      ]
     },
     "execution_count": 26,
     "metadata": {},
     "output_type": "execute_result"
    }
   ],
   "source": [
    "pred= pipe.predict(x_test) # predicting data using x test set\n",
    "pred"
   ]
  },
  {
   "cell_type": "markdown",
   "id": "311e83c5-479b-49ff-90b4-6b1629cdb905",
   "metadata": {},
   "source": [
    "### Model evaluation"
   ]
  },
  {
   "cell_type": "code",
   "execution_count": 27,
   "id": "afae0208-5412-41a1-b68f-c63bdc34b72d",
   "metadata": {
    "panel-layout": {
     "height": 757.135,
     "visible": true,
     "width": 100
    }
   },
   "outputs": [
    {
     "name": "stdout",
     "output_type": "stream",
     "text": [
      "accuracy = 0.888107276324467\n"
     ]
    }
   ],
   "source": [
    "print(\"accuracy =\", metrics.accuracy_score(y_test,pred)) "
   ]
  },
  {
   "cell_type": "code",
   "execution_count": 28,
   "id": "5c4b1354-adf3-44c3-a60d-bf38e8fe0052",
   "metadata": {
    "panel-layout": {
     "height": 730,
     "visible": true,
     "width": 100
    }
   },
   "outputs": [
    {
     "name": "stdout",
     "output_type": "stream",
     "text": [
      "classification report:\n",
      "              precision    recall  f1-score   support\n",
      "\n",
      "          No       0.91      0.90      0.90      2681\n",
      "         Yes       0.86      0.87      0.86      1868\n",
      "\n",
      "    accuracy                           0.89      4549\n",
      "   macro avg       0.88      0.89      0.88      4549\n",
      "weighted avg       0.89      0.89      0.89      4549\n",
      "\n"
     ]
    }
   ],
   "source": [
    "print(\"classification report:\")\n",
    "print(metrics.classification_report(y_test,pred,target_names=['No',\"Yes\"]))"
   ]
  },
  {
   "cell_type": "code",
   "execution_count": 29,
   "id": "95979513-e231-4f43-a0ea-6d29fde1850b",
   "metadata": {
    "panel-layout": {
     "height": 774.271,
     "visible": true,
     "width": 100
    }
   },
   "outputs": [
    {
     "name": "stdout",
     "output_type": "stream",
     "text": [
      "confusion matrix\n"
     ]
    },
    {
     "data": {
      "text/html": [
       "<div>\n",
       "<style scoped>\n",
       "    .dataframe tbody tr th:only-of-type {\n",
       "        vertical-align: middle;\n",
       "    }\n",
       "\n",
       "    .dataframe tbody tr th {\n",
       "        vertical-align: top;\n",
       "    }\n",
       "\n",
       "    .dataframe thead th {\n",
       "        text-align: right;\n",
       "    }\n",
       "</style>\n",
       "<table border=\"1\" class=\"dataframe\">\n",
       "  <thead>\n",
       "    <tr style=\"text-align: right;\">\n",
       "      <th></th>\n",
       "      <th>0</th>\n",
       "      <th>1</th>\n",
       "    </tr>\n",
       "  </thead>\n",
       "  <tbody>\n",
       "    <tr>\n",
       "      <th>0</th>\n",
       "      <td>2417</td>\n",
       "      <td>264</td>\n",
       "    </tr>\n",
       "    <tr>\n",
       "      <th>1</th>\n",
       "      <td>245</td>\n",
       "      <td>1623</td>\n",
       "    </tr>\n",
       "  </tbody>\n",
       "</table>\n",
       "</div>"
      ],
      "text/plain": [
       "      0     1\n",
       "0  2417   264\n",
       "1   245  1623"
      ]
     },
     "execution_count": 29,
     "metadata": {},
     "output_type": "execute_result"
    }
   ],
   "source": [
    "print('confusion matrix')\n",
    "confusion_matrix= pd.DataFrame(metrics.confusion_matrix(y_test,pred))\n",
    "confusion_matrix"
   ]
  },
  {
   "cell_type": "code",
   "execution_count": 30,
   "id": "17d122a1-8760-49b2-a515-4033f805801a",
   "metadata": {},
   "outputs": [],
   "source": [
    "y_proba= pipe.predict_proba(x_test)[:,1]\n",
    "fpr,tpr,threshold= metrics.roc_curve(y_test,y_proba)\n",
    "auc_score= metrics.roc_auc_score(y_test,y_proba)"
   ]
  },
  {
   "cell_type": "code",
   "execution_count": 31,
   "id": "60ce9d83-f24a-448d-b313-7c2655180241",
   "metadata": {
    "panel-layout": {
     "height": 441.997,
     "visible": true,
     "width": 100
    },
    "scrolled": true
   },
   "outputs": [
    {
     "data": {
      "image/png": "[encoded data removed]",
      "text/plain": [
       "<Figure size 400x300 with 1 Axes>"
      ]
     },
     "metadata": {},
     "output_type": "display_data"
    }
   ],
   "source": [
    "plt.figure(figsize=(4,3))\n",
    "plt.plot(fpr,tpr,label=f'roc curve (AUC= {auc_score:.2f})')\n",
    "plt.plot([0,1],[0,1])\n",
    "plt.title('plot of AUC')\n",
    "plt.ylabel('true positive')\n",
    "plt.xlabel('false positive')\n",
    "plt.tight_layout()\n",
    "plt.legend()\n",
    "plt.show()"
   ]
  },
  {
   "cell_type": "markdown",
   "id": "c3db58b0-b443-4f42-a9bc-51767ebc709f",
   "metadata": {},
   "source": [
    "### Saving the model and loading it for future use"
   ]
  },
  {
   "cell_type": "code",
   "execution_count": 36,
   "id": "f2a6be11-a320-47e9-a750-0da0359052bd",
   "metadata": {},
   "outputs": [
    {
     "data": {
      "text/plain": [
       "['irrigation_model']"
      ]
     },
     "execution_count": 36,
     "metadata": {},
     "output_type": "execute_result"
    }
   ],
   "source": [
    "#saving the model\n",
    "joblib.dump(pipe,'irrigation_model')"
   ]
  },
  {
   "cell_type": "code",
   "execution_count": 37,
   "id": "912d2668-80a2-4aed-ab0a-ccc473737659",
   "metadata": {},
   "outputs": [],
   "source": [
    "#loading the model\n",
    "system= joblib.load('irrigation_model')"
   ]
  },
  {
   "cell_type": "code",
   "execution_count": 38,
   "id": "0524bc05-6e9c-43ff-9757-b6de394d4d61",
   "metadata": {
    "panel-layout": {
     "height": 469.132,
     "visible": true,
     "width": 100
    }
   },
   "outputs": [
    {
     "data": {
      "text/plain": [
       "array([0], dtype=int64)"
      ]
     },
     "execution_count": 38,
     "metadata": {},
     "output_type": "execute_result"
    }
   ],
   "source": [
    "# testing our model on new data\n",
    "new_data= pd.DataFrame( {'crop ID':'Chilli','soil_type':'Chalky Soil',\n",
    "             'Seedling Stage':'Flowering','MOI':79,'temp':24,\n",
    "             'humidity':80},index=[0])\n",
    "system.predict(new_data)"
   ]
  }
 ],
 "metadata": {
  "kernelspec": {
   "display_name": "Python 3 (ipykernel)",
   "language": "python",
   "name": "python3"
  },
  "language_info": {
   "codemirror_mode": {
    "name": "ipython",
    "version": 3
   },
   "file_extension": ".py",
   "mimetype": "text/x-python",
   "name": "python",
   "nbconvert_exporter": "python",
   "pygments_lexer": "ipython3",
   "version": "3.12.3"
  },
  "panel-cell-order": [
   "4e55ba34-47bd-43cc-bd0b-714687ce86dc",
   "eaf6b8dd-07bb-4ca8-a3d8-538b4adcd10b",
   "697ed9b0-0975-4a13-8531-609eff381212",
   "3756708b-5d55-4bea-9284-95c48d5d05eb",
   "50717844-de48-40d3-9ade-48ceb3be9181",
   "7763acce-0d6a-43f1-808e-ce099ad0fabd",
   "427e1461-81e0-4742-aaa3-a0f76d466e7d",
   "5c2a76cf-c1d6-4132-a48d-5cde28b196f5",
   "da0267e3-9def-4f38-ae49-0a7a3c52337c",
   "b1100e0d-6ad0-47ba-a63c-eebe917ed597",
   "b235a131-a10c-48b3-88fe-28436ed4833f",
   "b0623661-0303-4449-b1c0-481f9f26ba1b",
   "711b544c-3f69-44d8-bce8-71669ed5b0d3",
   "b1230225-a93f-44b4-be62-478d71c83b83",
   "1fe2b230-397b-4b1a-9a56-c3819ca409de",
   "abc64f7c-1eb2-409e-ba5c-e7a2c5df48c1",
   "0e1f62e2-27ae-4797-9a9b-45da04dc5a29",
   "1d79b0e4-cbd7-45ee-a680-e37147bc96ec",
   "f1be5579-8628-49de-a9e1-d288d77272be",
   "afae0208-5412-41a1-b68f-c63bdc34b72d",
   "5c4b1354-adf3-44c3-a60d-bf38e8fe0052",
   "95979513-e231-4f43-a0ea-6d29fde1850b",
   "60ce9d83-f24a-448d-b313-7c2655180241",
   "0524bc05-6e9c-43ff-9757-b6de394d4d61"
  ]
 },
 "nbformat": 4,
 "nbformat_minor": 5
}
